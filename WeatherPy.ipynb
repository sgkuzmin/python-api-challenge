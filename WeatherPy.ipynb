{
 "cells": [
  {
   "cell_type": "markdown",
   "metadata": {},
   "source": [
    "# WeatherPy\n",
    "----\n",
    "\n",
    "#### Note\n",
    "* Instructions have been included for each segment. You do not have to follow them exactly, but they are included to help you think through the steps."
   ]
  },
  {
   "cell_type": "code",
   "execution_count": 51,
   "metadata": {
    "scrolled": true
   },
   "outputs": [],
   "source": [
    "# Dependencies and Setup\n",
    "import matplotlib.pyplot as plt\n",
    "import pandas as pd\n",
    "import numpy as np\n",
    "import requests\n",
    "import time\n",
    "from scipy.stats import linregress\n",
    "from pprint import pprint\n",
    "\n",
    "# Import API key\n",
    "from api_keys import weather_api_key\n",
    "\n",
    "# Incorporated citipy to determine city based on latitude and longitude\n",
    "from citipy import citipy\n",
    "\n",
    "# Output File (CSV)\n",
    "output_data_file = \"output_data/cities.csv\"\n",
    "\n",
    "# Range of latitudes and longitudes\n",
    "lat_range = (-90, 90)\n",
    "lng_range = (-180, 180)"
   ]
  },
  {
   "cell_type": "markdown",
   "metadata": {},
   "source": [
    "## Generate Cities List"
   ]
  },
  {
   "cell_type": "code",
   "execution_count": 52,
   "metadata": {},
   "outputs": [
    {
     "data": {
      "text/plain": [
       "630"
      ]
     },
     "execution_count": 52,
     "metadata": {},
     "output_type": "execute_result"
    }
   ],
   "source": [
    "# List for holding lat_lngs and cities\n",
    "lat_lngs = []\n",
    "cities = []\n",
    "\n",
    "# Create a set of random lat and lng combinations\n",
    "lats = np.random.uniform(lat_range[0], lat_range[1], size=1500)\n",
    "lngs = np.random.uniform(lng_range[0], lng_range[1], size=1500)\n",
    "lat_lngs = zip(lats, lngs)\n",
    "\n",
    "# Identify nearest city for each lat, lng combination\n",
    "for lat_lng in lat_lngs:\n",
    "    city = citipy.nearest_city(lat_lng[0], lat_lng[1]).city_name\n",
    "    \n",
    "    # If the city is unique, then add it to a our cities list\n",
    "    if city not in cities:\n",
    "        cities.append(city)\n",
    "\n",
    "# Print the city count to confirm sufficient count\n",
    "len(cities)"
   ]
  },
  {
   "cell_type": "markdown",
   "metadata": {},
   "source": [
    "### Perform API Calls\n",
    "* Perform a weather check on each city using a series of successive API calls.\n",
    "* Include a print log of each city as it'sbeing processed (with the city number and city name).\n"
   ]
  },
  {
   "cell_type": "code",
   "execution_count": 38,
   "metadata": {},
   "outputs": [
    {
     "name": "stdout",
     "output_type": "stream",
     "text": [
      "processing record 1 of 636 | kapaa\n",
      "processing record 2 of 636 | esperance\n",
      "processing record 3 of 636 | qaanaaq\n",
      "processing record 4 of 636 | cape town\n",
      "processing record 5 of 636 | mehran\n",
      "processing record 6 of 636 | pampa\n",
      "processing record 7 of 636 | brae\n",
      "processing record 8 of 636 | butaritari\n",
      "processing record 9 of 636 | ajaccio\n",
      "processing record 10 of 636 | bonthe\n",
      "processing record 11 of 636 | iqaluit\n",
      "processing record 12 of 636 | smithers\n",
      "processing record 13 of 636 | punta arenas\n",
      "processing record 14 of 636 | san carlos de bariloche\n",
      "processing record 15 of 636 | ushuaia\n",
      "processing record 16 of 636 | hobart\n",
      "processing record 17 of 636 | boende\n",
      "processing record 18 of 636 | busselton\n",
      "processing record 19 of 636 | carnarvon\n",
      "processing record 20 of 636 | geraldton\n",
      "processing record 21 of 636 | dikson\n",
      "processing record 22 of 636 | havoysund\n",
      "processing record 23 of 636 | san jeronimo\n",
      "processing record 24 of 636 | san andres\n",
      "processing record 25 of 636 | nusaybin\n",
      "processing record 26 of 636 | salalah\n",
      "processing record 27 of 636 | flinders\n",
      "processing record 28 of 636 | bokspits\n",
      "    request unsuccessful for city bokspits, skipping\n",
      "processing record 29 of 636 | vaini\n",
      "processing record 30 of 636 | thinadhoo\n",
      "processing record 31 of 636 | atuona\n",
      "processing record 32 of 636 | hami\n",
      "processing record 33 of 636 | gangotri\n",
      "    request unsuccessful for city gangotri, skipping\n",
      "processing record 34 of 636 | saiha\n",
      "processing record 35 of 636 | mitsamiouli\n",
      "processing record 36 of 636 | ponta delgada\n",
      "processing record 37 of 636 | dudinka\n",
      "processing record 38 of 636 | pori\n",
      "processing record 39 of 636 | san ramon\n",
      "processing record 40 of 636 | north las vegas\n",
      "processing record 41 of 636 | lahij\n",
      "processing record 42 of 636 | grand river south east\n",
      "    request unsuccessful for city grand river south east, skipping\n",
      "processing record 43 of 636 | hermanus\n",
      "processing record 44 of 636 | jamestown\n",
      "processing record 45 of 636 | pevek\n",
      "processing record 46 of 636 | westport\n",
      "processing record 47 of 636 | auki\n",
      "processing record 48 of 636 | florina\n",
      "processing record 49 of 636 | hofn\n",
      "processing record 50 of 636 | pangnirtung\n",
      "processing record 51 of 636 | cercany\n",
      "processing record 52 of 636 | san cristobal\n",
      "processing record 53 of 636 | rikitea\n",
      "processing record 54 of 636 | basco\n",
      "processing record 55 of 636 | san rafael\n",
      "processing record 56 of 636 | jaca\n",
      "processing record 57 of 636 | cape canaveral\n",
      "processing record 58 of 636 | barentsburg\n",
      "    request unsuccessful for city barentsburg, skipping\n",
      "processing record 59 of 636 | makakilo city\n",
      "processing record 60 of 636 | aqtobe\n",
      "processing record 61 of 636 | hilo\n",
      "processing record 62 of 636 | ponta do sol\n",
      "processing record 63 of 636 | saint george\n",
      "processing record 64 of 636 | ancud\n",
      "processing record 65 of 636 | airai\n",
      "processing record 66 of 636 | moyale\n",
      "processing record 67 of 636 | san patricio\n",
      "processing record 68 of 636 | cabo san lucas\n",
      "processing record 69 of 636 | harper\n",
      "processing record 70 of 636 | olafsvik\n",
      "processing record 71 of 636 | khatanga\n",
      "processing record 72 of 636 | lompoc\n",
      "processing record 73 of 636 | kamenka\n",
      "processing record 74 of 636 | dunedin\n",
      "processing record 75 of 636 | huilong\n",
      "processing record 76 of 636 | dawlatabad\n",
      "processing record 77 of 636 | kloulklubed\n",
      "processing record 78 of 636 | amderma\n",
      "    request unsuccessful for city amderma, skipping\n",
      "processing record 79 of 636 | ales\n",
      "processing record 80 of 636 | sao jose da coroa grande\n",
      "processing record 81 of 636 | pitsunda\n",
      "processing record 82 of 636 | acapulco\n",
      "processing record 83 of 636 | hithadhoo\n",
      "processing record 84 of 636 | taft\n",
      "processing record 85 of 636 | la rioja\n",
      "processing record 86 of 636 | samarai\n",
      "processing record 87 of 636 | port alfred\n",
      "processing record 88 of 636 | kavieng\n",
      "processing record 89 of 636 | tasiilaq\n",
      "processing record 90 of 636 | muyezerskiy\n",
      "processing record 91 of 636 | victoria\n",
      "processing record 92 of 636 | wurzburg\n",
      "processing record 93 of 636 | longyearbyen\n",
      "processing record 94 of 636 | stykkisholmur\n",
      "processing record 95 of 636 | mokhsogollokh\n",
      "processing record 96 of 636 | saint-philippe\n",
      "processing record 97 of 636 | cidreira\n",
      "processing record 98 of 636 | vila velha\n",
      "processing record 99 of 636 | ciudad bolivar\n",
      "processing record 100 of 636 | arraial do cabo\n",
      "processing record 101 of 636 | alice springs\n",
      "processing record 102 of 636 | liwale\n",
      "processing record 103 of 636 | mar del plata\n",
      "processing record 104 of 636 | norman wells\n",
      "processing record 105 of 636 | mehamn\n",
      "processing record 106 of 636 | lakes entrance\n",
      "processing record 107 of 636 | nanortalik\n",
      "processing record 108 of 636 | sheridan\n",
      "processing record 109 of 636 | shyroke\n",
      "processing record 110 of 636 | puerto ayora\n",
      "processing record 111 of 636 | albany\n",
      "processing record 112 of 636 | katsuura\n",
      "processing record 113 of 636 | mataura\n",
      "processing record 114 of 636 | maracas\n",
      "processing record 115 of 636 | srisailam\n",
      "processing record 116 of 636 | novo aripuana\n",
      "processing record 117 of 636 | kangavar\n",
      "processing record 118 of 636 | bredasdorp\n",
      "processing record 119 of 636 | yellowknife\n",
      "processing record 120 of 636 | east london\n",
      "processing record 121 of 636 | erzin\n",
      "processing record 122 of 636 | bend\n",
      "processing record 123 of 636 | brenes\n",
      "processing record 124 of 636 | bluff\n",
      "processing record 125 of 636 | leshukonskoye\n",
      "processing record 126 of 636 | saldanha\n",
      "processing record 127 of 636 | kichera\n",
      "processing record 128 of 636 | bethel\n",
      "processing record 129 of 636 | aykhal\n",
      "processing record 130 of 636 | los chiles\n",
      "processing record 131 of 636 | talara\n",
      "processing record 132 of 636 | hasaki\n",
      "processing record 133 of 636 | kununurra\n",
      "processing record 134 of 636 | pizarro\n",
      "processing record 135 of 636 | kargasok\n",
      "processing record 136 of 636 | labuhan\n",
      "processing record 137 of 636 | sagna\n",
      "processing record 138 of 636 | tuatapere\n",
      "processing record 139 of 636 | sfantu gheorghe\n",
      "processing record 140 of 636 | ukrayinka\n",
      "processing record 141 of 636 | londoko\n",
      "processing record 142 of 636 | kodiak\n",
      "processing record 143 of 636 | micheweni\n",
      "processing record 144 of 636 | de aar\n",
      "processing record 145 of 636 | clyde river\n",
      "processing record 146 of 636 | severnyy\n",
      "processing record 147 of 636 | khani\n",
      "processing record 148 of 636 | vanavara\n",
      "processing record 149 of 636 | nuuk\n",
      "processing record 150 of 636 | show low\n",
      "processing record 151 of 636 | saint-augustin\n",
      "processing record 152 of 636 | riyadh\n",
      "processing record 153 of 636 | sinnamary\n",
      "processing record 154 of 636 | alofi\n",
      "processing record 155 of 636 | venado tuerto\n",
      "processing record 156 of 636 | barrow\n",
      "processing record 157 of 636 | hit\n",
      "processing record 158 of 636 | avarua\n",
      "processing record 159 of 636 | port-gentil\n",
      "processing record 160 of 636 | illoqqortoormiut\n",
      "    request unsuccessful for city illoqqortoormiut, skipping\n",
      "processing record 161 of 636 | tubruq\n",
      "    request unsuccessful for city tubruq, skipping\n",
      "processing record 162 of 636 | homer\n",
      "processing record 163 of 636 | itaituba\n",
      "processing record 164 of 636 | lagoa\n",
      "processing record 165 of 636 | suffolk\n",
      "processing record 166 of 636 | leningradskiy\n",
      "processing record 167 of 636 | celestun\n",
      "processing record 168 of 636 | kangaba\n",
      "processing record 169 of 636 | mahaban\n",
      "processing record 170 of 636 | wagga wagga\n",
      "processing record 171 of 636 | vadodara\n",
      "processing record 172 of 636 | saleaula\n",
      "    request unsuccessful for city saleaula, skipping\n",
      "processing record 173 of 636 | klaksvik\n",
      "processing record 174 of 636 | luangwa\n",
      "processing record 175 of 636 | maues\n",
      "processing record 176 of 636 | bengkulu\n",
      "processing record 177 of 636 | yumen\n",
      "processing record 178 of 636 | mopti\n",
      "processing record 179 of 636 | taolanaro\n",
      "    request unsuccessful for city taolanaro, skipping\n",
      "processing record 180 of 636 | asekeyevo\n",
      "processing record 181 of 636 | hoi an\n",
      "processing record 182 of 636 | trelew\n",
      "processing record 183 of 636 | ishigaki\n",
      "processing record 184 of 636 | kautokeino\n",
      "processing record 185 of 636 | sembe\n",
      "processing record 186 of 636 | port lincoln\n",
      "processing record 187 of 636 | batavia\n",
      "processing record 188 of 636 | salinopolis\n",
      "processing record 189 of 636 | abu kamal\n",
      "processing record 190 of 636 | lebu\n",
      "processing record 191 of 636 | tanout\n",
      "processing record 192 of 636 | margate\n",
      "processing record 193 of 636 | lavrentiya\n"
     ]
    },
    {
     "name": "stdout",
     "output_type": "stream",
     "text": [
      "processing record 194 of 636 | severo-kurilsk\n",
      "processing record 195 of 636 | alghero\n",
      "processing record 196 of 636 | sentyabrskiy\n",
      "    request unsuccessful for city sentyabrskiy, skipping\n",
      "processing record 197 of 636 | tsihombe\n",
      "    request unsuccessful for city tsihombe, skipping\n",
      "processing record 198 of 636 | raudeberg\n",
      "processing record 199 of 636 | robore\n",
      "processing record 200 of 636 | batticaloa\n",
      "processing record 201 of 636 | arys\n",
      "processing record 202 of 636 | resistencia\n",
      "processing record 203 of 636 | warren\n",
      "processing record 204 of 636 | mahebourg\n",
      "processing record 205 of 636 | ban dung\n",
      "processing record 206 of 636 | moose factory\n",
      "processing record 207 of 636 | saskylakh\n",
      "processing record 208 of 636 | thuro\n",
      "    request unsuccessful for city thuro, skipping\n",
      "processing record 209 of 636 | provideniya\n",
      "processing record 210 of 636 | warqla\n",
      "    request unsuccessful for city warqla, skipping\n",
      "processing record 211 of 636 | toliary\n",
      "    request unsuccessful for city toliary, skipping\n",
      "processing record 212 of 636 | port elizabeth\n",
      "processing record 213 of 636 | north platte\n",
      "processing record 214 of 636 | portland\n",
      "processing record 215 of 636 | lazaro cardenas\n",
      "processing record 216 of 636 | petropavlovsk-kamchatskiy\n",
      "processing record 217 of 636 | charters towers\n",
      "processing record 218 of 636 | constitucion\n",
      "processing record 219 of 636 | huanren\n",
      "processing record 220 of 636 | ust-nera\n",
      "processing record 221 of 636 | sitrah\n",
      "processing record 222 of 636 | port hedland\n",
      "processing record 223 of 636 | jiutai\n",
      "processing record 224 of 636 | aban\n",
      "processing record 225 of 636 | kongsberg\n",
      "processing record 226 of 636 | tarauaca\n",
      "processing record 227 of 636 | manhattan\n",
      "processing record 228 of 636 | te anau\n",
      "processing record 229 of 636 | upernavik\n",
      "processing record 230 of 636 | barawe\n",
      "    request unsuccessful for city barawe, skipping\n",
      "processing record 231 of 636 | umm kaddadah\n",
      "processing record 232 of 636 | sampit\n",
      "processing record 233 of 636 | galle\n",
      "processing record 234 of 636 | kavaratti\n",
      "processing record 235 of 636 | gryfino\n",
      "processing record 236 of 636 | ostrovnoy\n",
      "processing record 237 of 636 | sambava\n",
      "processing record 238 of 636 | devils lake\n",
      "processing record 239 of 636 | ivangorod\n",
      "processing record 240 of 636 | belushya guba\n",
      "    request unsuccessful for city belushya guba, skipping\n",
      "processing record 241 of 636 | quatre cocos\n",
      "processing record 242 of 636 | byron bay\n",
      "processing record 243 of 636 | alta floresta\n",
      "processing record 244 of 636 | bonavista\n",
      "processing record 245 of 636 | wattegama\n",
      "processing record 246 of 636 | kenai\n",
      "processing record 247 of 636 | fjerritslev\n",
      "processing record 248 of 636 | sechura\n",
      "processing record 249 of 636 | tuktoyaktuk\n",
      "processing record 250 of 636 | new norfolk\n",
      "processing record 251 of 636 | anadyr\n",
      "processing record 252 of 636 | kamaishi\n",
      "processing record 253 of 636 | ouro preto do oeste\n",
      "processing record 254 of 636 | ribeira grande\n",
      "processing record 255 of 636 | touros\n",
      "processing record 256 of 636 | saint-pierre\n",
      "processing record 257 of 636 | timiryazevskiy\n",
      "processing record 258 of 636 | svetlaya\n",
      "processing record 259 of 636 | yulara\n",
      "processing record 260 of 636 | mungaa\n",
      "processing record 261 of 636 | lubao\n",
      "processing record 262 of 636 | caravelas\n",
      "processing record 263 of 636 | novyy urengoy\n",
      "processing record 264 of 636 | gamba\n",
      "processing record 265 of 636 | tura\n",
      "processing record 266 of 636 | kortkeros\n",
      "processing record 267 of 636 | souillac\n",
      "processing record 268 of 636 | kaitangata\n",
      "processing record 269 of 636 | taoudenni\n",
      "processing record 270 of 636 | kuche\n",
      "    request unsuccessful for city kuche, skipping\n",
      "processing record 271 of 636 | cherskiy\n",
      "processing record 272 of 636 | samusu\n",
      "    request unsuccessful for city samusu, skipping\n",
      "processing record 273 of 636 | awbari\n",
      "processing record 274 of 636 | gat\n",
      "processing record 275 of 636 | georgetown\n",
      "processing record 276 of 636 | launceston\n",
      "processing record 277 of 636 | sao filipe\n",
      "processing record 278 of 636 | fukue\n",
      "processing record 279 of 636 | zalantun\n",
      "processing record 280 of 636 | namibe\n",
      "processing record 281 of 636 | gizycko\n",
      "processing record 282 of 636 | hirara\n",
      "processing record 283 of 636 | qui nhon\n",
      "processing record 284 of 636 | padang\n",
      "processing record 285 of 636 | cayenne\n",
      "processing record 286 of 636 | walvis bay\n",
      "processing record 287 of 636 | pisco\n",
      "processing record 288 of 636 | vaitape\n",
      "processing record 289 of 636 | fairbanks\n",
      "processing record 290 of 636 | coquimbo\n",
      "processing record 291 of 636 | talnakh\n",
      "processing record 292 of 636 | andenes\n",
      "processing record 293 of 636 | gimli\n",
      "processing record 294 of 636 | lolua\n",
      "    request unsuccessful for city lolua, skipping\n",
      "processing record 295 of 636 | amot\n",
      "processing record 296 of 636 | bouillante\n",
      "processing record 297 of 636 | tahara\n",
      "processing record 298 of 636 | teluknaga\n",
      "processing record 299 of 636 | kachug\n",
      "processing record 300 of 636 | itoman\n",
      "processing record 301 of 636 | dicabisagan\n",
      "processing record 302 of 636 | grand gaube\n",
      "processing record 303 of 636 | boulsa\n",
      "processing record 304 of 636 | bambous virieux\n",
      "processing record 305 of 636 | namatanai\n",
      "processing record 306 of 636 | chuy\n",
      "processing record 307 of 636 | anchorage\n",
      "processing record 308 of 636 | sobolevo\n",
      "processing record 309 of 636 | ternate\n",
      "processing record 310 of 636 | gizo\n",
      "processing record 311 of 636 | nizhneyansk\n",
      "    request unsuccessful for city nizhneyansk, skipping\n",
      "processing record 312 of 636 | chokurdakh\n",
      "processing record 313 of 636 | naze\n",
      "processing record 314 of 636 | faanui\n",
      "processing record 315 of 636 | atambua\n",
      "processing record 316 of 636 | morondava\n",
      "processing record 317 of 636 | louisbourg\n",
      "    request unsuccessful for city louisbourg, skipping\n",
      "processing record 318 of 636 | sakakah\n",
      "processing record 319 of 636 | kupang\n",
      "processing record 320 of 636 | atar\n",
      "processing record 321 of 636 | mount isa\n",
      "processing record 322 of 636 | thompson\n",
      "processing record 323 of 636 | palmer\n",
      "processing record 324 of 636 | pitimbu\n",
      "processing record 325 of 636 | kuvshinovo\n",
      "processing record 326 of 636 | jiwani\n",
      "processing record 327 of 636 | bolungarvik\n",
      "    request unsuccessful for city bolungarvik, skipping\n",
      "processing record 328 of 636 | nikolskoye\n",
      "processing record 329 of 636 | huarmey\n",
      "processing record 330 of 636 | grand-lahou\n",
      "processing record 331 of 636 | puerto escondido\n",
      "processing record 332 of 636 | riberalta\n",
      "processing record 333 of 636 | cap-aux-meules\n",
      "processing record 334 of 636 | uyar\n",
      "processing record 335 of 636 | srednekolymsk\n",
      "processing record 336 of 636 | porto novo\n",
      "processing record 337 of 636 | the pas\n",
      "processing record 338 of 636 | hihifo\n",
      "    request unsuccessful for city hihifo, skipping\n",
      "processing record 339 of 636 | ust-omchug\n",
      "processing record 340 of 636 | soyaux\n",
      "processing record 341 of 636 | torbay\n",
      "processing record 342 of 636 | marv dasht\n",
      "    request unsuccessful for city marv dasht, skipping\n",
      "processing record 343 of 636 | muros\n",
      "processing record 344 of 636 | luwuk\n",
      "processing record 345 of 636 | boralday\n",
      "processing record 346 of 636 | sao borja\n",
      "processing record 347 of 636 | male\n",
      "processing record 348 of 636 | doboz\n",
      "processing record 349 of 636 | comodoro rivadavia\n",
      "processing record 350 of 636 | wanning\n",
      "processing record 351 of 636 | payo\n",
      "processing record 352 of 636 | arman\n",
      "processing record 353 of 636 | kalnibolotskaya\n",
      "processing record 354 of 636 | peno\n",
      "processing record 355 of 636 | necochea\n",
      "processing record 356 of 636 | rehoboth\n",
      "processing record 357 of 636 | bandarbeyla\n",
      "processing record 358 of 636 | kashi\n",
      "processing record 359 of 636 | mattawa\n",
      "processing record 360 of 636 | bibiani\n",
      "processing record 361 of 636 | de land\n",
      "processing record 362 of 636 | hai phong\n",
      "    request unsuccessful for city hai phong, skipping\n",
      "processing record 363 of 636 | sapapalii\n",
      "    request unsuccessful for city sapapalii, skipping\n",
      "processing record 364 of 636 | kahului\n",
      "processing record 365 of 636 | mount gambier\n",
      "processing record 366 of 636 | guiratinga\n",
      "processing record 367 of 636 | puerto del rosario\n",
      "processing record 368 of 636 | fevralsk\n",
      "    request unsuccessful for city fevralsk, skipping\n",
      "processing record 369 of 636 | guarapari\n",
      "processing record 370 of 636 | murray bridge\n",
      "processing record 371 of 636 | skiros\n",
      "    request unsuccessful for city skiros, skipping\n"
     ]
    },
    {
     "name": "stdout",
     "output_type": "stream",
     "text": [
      "processing record 372 of 636 | marquette\n",
      "processing record 373 of 636 | roald\n",
      "processing record 374 of 636 | hamilton\n",
      "processing record 375 of 636 | hambantota\n",
      "processing record 376 of 636 | zlatoustovsk\n",
      "    request unsuccessful for city zlatoustovsk, skipping\n",
      "processing record 377 of 636 | san francisco de macoris\n",
      "processing record 378 of 636 | atbasar\n",
      "processing record 379 of 636 | vanimo\n",
      "processing record 380 of 636 | mareeba\n",
      "processing record 381 of 636 | bambanglipuro\n",
      "processing record 382 of 636 | rawson\n",
      "processing record 383 of 636 | sarh\n",
      "processing record 384 of 636 | okhotsk\n",
      "processing record 385 of 636 | hualmay\n",
      "processing record 386 of 636 | gwanda\n",
      "processing record 387 of 636 | progreso\n",
      "processing record 388 of 636 | los llanos de aridane\n",
      "processing record 389 of 636 | castro\n",
      "processing record 390 of 636 | chicama\n",
      "processing record 391 of 636 | puerto baquerizo moreno\n",
      "processing record 392 of 636 | mackay\n",
      "processing record 393 of 636 | kieta\n",
      "processing record 394 of 636 | altamont\n",
      "processing record 395 of 636 | egvekinot\n",
      "processing record 396 of 636 | marang\n",
      "processing record 397 of 636 | trinidad\n",
      "processing record 398 of 636 | cockburn town\n",
      "processing record 399 of 636 | cumberland\n",
      "processing record 400 of 636 | mumford\n",
      "processing record 401 of 636 | angostura\n",
      "processing record 402 of 636 | awjilah\n",
      "processing record 403 of 636 | wasilla\n",
      "processing record 404 of 636 | parana\n",
      "processing record 405 of 636 | mwense\n",
      "processing record 406 of 636 | ahipara\n",
      "processing record 407 of 636 | moindou\n",
      "processing record 408 of 636 | shubarkuduk\n",
      "processing record 409 of 636 | kindu\n",
      "processing record 410 of 636 | arcachon\n",
      "processing record 411 of 636 | chakwal\n",
      "processing record 412 of 636 | dubenskiy\n",
      "    request unsuccessful for city dubenskiy, skipping\n",
      "processing record 413 of 636 | avera\n",
      "processing record 414 of 636 | la romana\n",
      "processing record 415 of 636 | belawan\n",
      "processing record 416 of 636 | katherine\n",
      "processing record 417 of 636 | singaraja\n",
      "processing record 418 of 636 | fortuna\n",
      "processing record 419 of 636 | soyo\n",
      "processing record 420 of 636 | sao joao da barra\n",
      "processing record 421 of 636 | forbes\n",
      "processing record 422 of 636 | ningyang\n",
      "processing record 423 of 636 | araouane\n",
      "processing record 424 of 636 | marcona\n",
      "    request unsuccessful for city marcona, skipping\n",
      "processing record 425 of 636 | guerrero negro\n",
      "processing record 426 of 636 | grindavik\n",
      "processing record 427 of 636 | rio verde de mato grosso\n",
      "processing record 428 of 636 | sapa\n",
      "processing record 429 of 636 | aquiraz\n",
      "processing record 430 of 636 | paita\n",
      "processing record 431 of 636 | vallenar\n",
      "processing record 432 of 636 | rustenburg\n",
      "processing record 433 of 636 | aklavik\n",
      "processing record 434 of 636 | sebinkarahisar\n",
      "processing record 435 of 636 | nortelandia\n",
      "processing record 436 of 636 | yanan\n",
      "    request unsuccessful for city yanan, skipping\n",
      "processing record 437 of 636 | san policarpo\n",
      "processing record 438 of 636 | mahajanga\n",
      "processing record 439 of 636 | termiz\n",
      "processing record 440 of 636 | aksu\n",
      "processing record 441 of 636 | mitchell\n",
      "processing record 442 of 636 | qasigiannguit\n",
      "processing record 443 of 636 | toora-khem\n",
      "processing record 444 of 636 | salta\n",
      "processing record 445 of 636 | mogadishu\n",
      "processing record 446 of 636 | codrington\n",
      "processing record 447 of 636 | dukat\n",
      "processing record 448 of 636 | seoul\n",
      "processing record 449 of 636 | scottsburgh\n",
      "    request unsuccessful for city scottsburgh, skipping\n",
      "processing record 450 of 636 | linapacan\n",
      "    request unsuccessful for city linapacan, skipping\n",
      "processing record 451 of 636 | barbar\n",
      "    request unsuccessful for city barbar, skipping\n",
      "processing record 452 of 636 | ibra\n",
      "processing record 453 of 636 | port hardy\n",
      "processing record 454 of 636 | la ronge\n",
      "processing record 455 of 636 | bamako\n",
      "processing record 456 of 636 | chumikan\n",
      "processing record 457 of 636 | faya\n",
      "processing record 458 of 636 | wenzhou\n",
      "processing record 459 of 636 | mahon\n",
      "processing record 460 of 636 | tigil\n",
      "processing record 461 of 636 | mys shmidta\n",
      "    request unsuccessful for city mys shmidta, skipping\n",
      "processing record 462 of 636 | presque isle\n",
      "processing record 463 of 636 | pokhara\n",
      "processing record 464 of 636 | kingaroy\n",
      "processing record 465 of 636 | tiksi\n",
      "processing record 466 of 636 | astara\n",
      "processing record 467 of 636 | biloela\n",
      "processing record 468 of 636 | mildura\n",
      "processing record 469 of 636 | attawapiskat\n",
      "    request unsuccessful for city attawapiskat, skipping\n",
      "processing record 470 of 636 | vao\n",
      "processing record 471 of 636 | severobaykalsk\n",
      "processing record 472 of 636 | shimanovsk\n",
      "processing record 473 of 636 | dolores\n",
      "processing record 474 of 636 | beloha\n",
      "processing record 475 of 636 | rodrigues alves\n",
      "processing record 476 of 636 | nome\n",
      "processing record 477 of 636 | zakamensk\n",
      "processing record 478 of 636 | khonuu\n",
      "    request unsuccessful for city khonuu, skipping\n",
      "processing record 479 of 636 | arkhara\n",
      "processing record 480 of 636 | zaysan\n",
      "processing record 481 of 636 | itarema\n",
      "processing record 482 of 636 | matagami\n",
      "processing record 483 of 636 | burica\n",
      "    request unsuccessful for city burica, skipping\n",
      "processing record 484 of 636 | villareal\n",
      "processing record 485 of 636 | jiayuguan\n",
      "processing record 486 of 636 | laguna\n",
      "processing record 487 of 636 | samalaeulu\n",
      "    request unsuccessful for city samalaeulu, skipping\n",
      "processing record 488 of 636 | asau\n",
      "processing record 489 of 636 | iralaya\n",
      "processing record 490 of 636 | mangai\n",
      "processing record 491 of 636 | nguiu\n",
      "    request unsuccessful for city nguiu, skipping\n",
      "processing record 492 of 636 | raymondville\n",
      "processing record 493 of 636 | vardo\n",
      "processing record 494 of 636 | demir kapija\n",
      "processing record 495 of 636 | mounana\n",
      "processing record 496 of 636 | prijepolje\n",
      "processing record 497 of 636 | flin flon\n",
      "processing record 498 of 636 | taylorville\n",
      "processing record 499 of 636 | monte patria\n",
      "processing record 500 of 636 | abu samrah\n",
      "processing record 501 of 636 | kushima\n",
      "processing record 502 of 636 | el carrizo\n",
      "processing record 503 of 636 | gladstone\n",
      "processing record 504 of 636 | gornopravdinsk\n",
      "processing record 505 of 636 | ankola\n",
      "processing record 506 of 636 | katha\n",
      "    request unsuccessful for city katha, skipping\n",
      "processing record 507 of 636 | kilindoni\n",
      "processing record 508 of 636 | shitanjing\n",
      "processing record 509 of 636 | narsaq\n",
      "processing record 510 of 636 | mantua\n",
      "processing record 511 of 636 | suba\n",
      "processing record 512 of 636 | umm lajj\n",
      "processing record 513 of 636 | zhuhai\n",
      "processing record 514 of 636 | sarangani\n",
      "processing record 515 of 636 | opobo\n",
      "    request unsuccessful for city opobo, skipping\n",
      "processing record 516 of 636 | belaya gora\n",
      "processing record 517 of 636 | navapur\n",
      "    request unsuccessful for city navapur, skipping\n",
      "processing record 518 of 636 | poya\n",
      "processing record 519 of 636 | alora\n",
      "processing record 520 of 636 | komsomolskiy\n",
      "processing record 521 of 636 | semnan\n",
      "processing record 522 of 636 | maniitsoq\n",
      "processing record 523 of 636 | molango\n",
      "processing record 524 of 636 | waitara\n",
      "processing record 525 of 636 | sri aman\n",
      "processing record 526 of 636 | kodinar\n",
      "processing record 527 of 636 | husavik\n",
      "processing record 528 of 636 | mbarara\n",
      "processing record 529 of 636 | bayan\n",
      "processing record 530 of 636 | ouegoa\n",
      "processing record 531 of 636 | guantanamo\n",
      "processing record 532 of 636 | hastings\n",
      "processing record 533 of 636 | el alto\n",
      "processing record 534 of 636 | barabai\n",
      "processing record 535 of 636 | nizhniy bestyakh\n",
      "processing record 536 of 636 | saint-esteve\n",
      "processing record 537 of 636 | dongsheng\n",
      "processing record 538 of 636 | meyungs\n",
      "    request unsuccessful for city meyungs, skipping\n",
      "processing record 539 of 636 | sidney\n",
      "processing record 540 of 636 | floro\n",
      "processing record 541 of 636 | san francisco\n",
      "processing record 542 of 636 | novaya igirma\n",
      "processing record 543 of 636 | dzhubga\n",
      "processing record 544 of 636 | luzon\n",
      "processing record 545 of 636 | washington\n",
      "processing record 546 of 636 | kambove\n",
      "processing record 547 of 636 | yabelo\n",
      "processing record 548 of 636 | kpandae\n",
      "processing record 549 of 636 | saint anthony\n",
      "processing record 550 of 636 | ulaangom\n",
      "processing record 551 of 636 | lodja\n",
      "processing record 552 of 636 | ongandjera\n",
      "processing record 553 of 636 | khasan\n"
     ]
    },
    {
     "name": "stdout",
     "output_type": "stream",
     "text": [
      "processing record 554 of 636 | lata\n",
      "processing record 555 of 636 | sesheke\n",
      "processing record 556 of 636 | mugur-aksy\n",
      "processing record 557 of 636 | xining\n",
      "processing record 558 of 636 | diamantino\n",
      "processing record 559 of 636 | pandan\n",
      "processing record 560 of 636 | karla\n",
      "processing record 561 of 636 | plettenberg bay\n",
      "processing record 562 of 636 | ranot\n",
      "processing record 563 of 636 | saint-denis\n",
      "processing record 564 of 636 | kysyl-syr\n",
      "processing record 565 of 636 | eyl\n",
      "processing record 566 of 636 | chute-aux-outardes\n",
      "processing record 567 of 636 | luderitz\n",
      "processing record 568 of 636 | poddorye\n",
      "processing record 569 of 636 | miedzychod\n",
      "processing record 570 of 636 | turukhansk\n",
      "processing record 571 of 636 | dolbeau\n",
      "    request unsuccessful for city dolbeau, skipping\n",
      "processing record 572 of 636 | lincoln\n",
      "processing record 573 of 636 | marau\n",
      "processing record 574 of 636 | tucupita\n",
      "processing record 575 of 636 | ilulissat\n",
      "processing record 576 of 636 | chavakkad\n",
      "processing record 577 of 636 | shiyan\n",
      "processing record 578 of 636 | mataro\n",
      "processing record 579 of 636 | nizhniy tsasuchey\n",
      "processing record 580 of 636 | whitecourt\n",
      "processing record 581 of 636 | vostok\n",
      "processing record 582 of 636 | bourail\n",
      "processing record 583 of 636 | bagdarin\n",
      "processing record 584 of 636 | ahuimanu\n",
      "processing record 585 of 636 | praya\n",
      "processing record 586 of 636 | newport\n",
      "processing record 587 of 636 | belle fourche\n",
      "processing record 588 of 636 | hobyo\n",
      "processing record 589 of 636 | hailar\n",
      "processing record 590 of 636 | adrar\n",
      "processing record 591 of 636 | semey\n",
      "processing record 592 of 636 | chapais\n",
      "processing record 593 of 636 | belousovka\n",
      "processing record 594 of 636 | sistranda\n",
      "processing record 595 of 636 | norfolk\n",
      "processing record 596 of 636 | beloeil\n",
      "processing record 597 of 636 | aksarka\n",
      "processing record 598 of 636 | yar-sale\n",
      "processing record 599 of 636 | dzilam gonzalez\n",
      "processing record 600 of 636 | sedro-woolley\n",
      "processing record 601 of 636 | saint-paul\n",
      "processing record 602 of 636 | ovalle\n",
      "processing record 603 of 636 | jutai\n",
      "processing record 604 of 636 | solovetskiy\n",
      "    request unsuccessful for city solovetskiy, skipping\n",
      "processing record 605 of 636 | rio gallegos\n",
      "processing record 606 of 636 | cagayan de tawi-tawi\n",
      "    request unsuccessful for city cagayan de tawi-tawi, skipping\n",
      "processing record 607 of 636 | port augusta\n",
      "processing record 608 of 636 | tarakan\n",
      "processing record 609 of 636 | shonguy\n",
      "processing record 610 of 636 | isangel\n",
      "processing record 611 of 636 | khash\n",
      "processing record 612 of 636 | eureka\n",
      "processing record 613 of 636 | bajo baudo\n",
      "    request unsuccessful for city bajo baudo, skipping\n",
      "processing record 614 of 636 | peniche\n",
      "processing record 615 of 636 | calama\n",
      "processing record 616 of 636 | khandyga\n",
      "processing record 617 of 636 | pushkino\n",
      "processing record 618 of 636 | puksoozero\n",
      "processing record 619 of 636 | maarianhamina\n",
      "processing record 620 of 636 | zyryanka\n",
      "processing record 621 of 636 | antalaha\n",
      "processing record 622 of 636 | lagdo\n",
      "processing record 623 of 636 | beringovskiy\n",
      "processing record 624 of 636 | mayo\n",
      "processing record 625 of 636 | tomatlan\n",
      "processing record 626 of 636 | sorong\n",
      "processing record 627 of 636 | paamiut\n",
      "processing record 628 of 636 | hovd\n",
      "processing record 629 of 636 | talakan\n",
      "processing record 630 of 636 | langarud\n",
      "processing record 631 of 636 | zarichne\n",
      "processing record 632 of 636 | cairns\n",
      "processing record 633 of 636 | likasi\n",
      "processing record 634 of 636 | hwange\n",
      "processing record 635 of 636 | karauzyak\n",
      "    request unsuccessful for city karauzyak, skipping\n",
      "processing record 636 of 636 | pilar\n"
     ]
    }
   ],
   "source": [
    "\n",
    "url = \"http://api.openweathermap.org/data/2.5/weather?\"\n",
    "units = \"metric\"\n",
    "#cities = ['novosibirsk','asdfa','kemerovo']\n",
    "ncities=len(cities)\n",
    "#set dictionary to store city weather data\n",
    "citydata={}\n",
    "for city in cities:\n",
    "    query_url = f\"{url}appid={weather_api_key}&q={city}&units={units}\"\n",
    "    weather_response = requests.get(query_url)\n",
    "    print(f'processing record {cities.index(city)+1} of {ncities} | {city}')\n",
    "    if weather_response.ok:\n",
    "        weather_json = weather_response.json()\n",
    "        citydata.setdefault('City',[]).append(weather_json['name'])\n",
    "        citydata.setdefault('Lat',[]).append(weather_json['coord']['lat'])\n",
    "        citydata.setdefault('Lng',[]).append(weather_json['coord']['lon'])\n",
    "        citydata.setdefault('Max Temp',[]).append(weather_json['main']['temp_max'])\n",
    "        citydata.setdefault('Humidity',[]).append(weather_json['main']['humidity'])\n",
    "        citydata.setdefault('Cloudiness',[]).append(weather_json['clouds']['all'])\n",
    "        citydata.setdefault('Wind Speed',[]).append(weather_json['wind']['speed'])\n",
    "        citydata.setdefault('Country',[]).append(weather_json['sys']['country'])\n",
    "        citydata.setdefault('Date',[]).append(weather_json['dt'])\n",
    "    else:\n",
    "        print(f'    request unsuccessful for city {city}, skipping')\n",
    "    "
   ]
  },
  {
   "cell_type": "markdown",
   "metadata": {},
   "source": [
    "### Convert Raw Data to DataFrame\n",
    "* Export the city data into a .csv.\n",
    "* Display the DataFrame"
   ]
  },
  {
   "cell_type": "code",
   "execution_count": 39,
   "metadata": {},
   "outputs": [
    {
     "data": {
      "text/html": [
       "<div>\n",
       "<style scoped>\n",
       "    .dataframe tbody tr th:only-of-type {\n",
       "        vertical-align: middle;\n",
       "    }\n",
       "\n",
       "    .dataframe tbody tr th {\n",
       "        vertical-align: top;\n",
       "    }\n",
       "\n",
       "    .dataframe thead th {\n",
       "        text-align: right;\n",
       "    }\n",
       "</style>\n",
       "<table border=\"1\" class=\"dataframe\">\n",
       "  <thead>\n",
       "    <tr style=\"text-align: right;\">\n",
       "      <th></th>\n",
       "      <th>City</th>\n",
       "      <th>Lat</th>\n",
       "      <th>Lng</th>\n",
       "      <th>Max Temp</th>\n",
       "      <th>Humidity</th>\n",
       "      <th>Cloudiness</th>\n",
       "      <th>Wind Speed</th>\n",
       "      <th>Country</th>\n",
       "      <th>Date</th>\n",
       "    </tr>\n",
       "  </thead>\n",
       "  <tbody>\n",
       "    <tr>\n",
       "      <th>0</th>\n",
       "      <td>Kapaa</td>\n",
       "      <td>22.0752</td>\n",
       "      <td>-159.3190</td>\n",
       "      <td>26.18</td>\n",
       "      <td>76</td>\n",
       "      <td>90</td>\n",
       "      <td>0.89</td>\n",
       "      <td>US</td>\n",
       "      <td>1629912860</td>\n",
       "    </tr>\n",
       "    <tr>\n",
       "      <th>1</th>\n",
       "      <td>Esperance</td>\n",
       "      <td>-33.8667</td>\n",
       "      <td>121.9000</td>\n",
       "      <td>12.91</td>\n",
       "      <td>49</td>\n",
       "      <td>86</td>\n",
       "      <td>8.94</td>\n",
       "      <td>AU</td>\n",
       "      <td>1629912860</td>\n",
       "    </tr>\n",
       "    <tr>\n",
       "      <th>2</th>\n",
       "      <td>Qaanaaq</td>\n",
       "      <td>77.4840</td>\n",
       "      <td>-69.3632</td>\n",
       "      <td>4.72</td>\n",
       "      <td>85</td>\n",
       "      <td>100</td>\n",
       "      <td>4.78</td>\n",
       "      <td>GL</td>\n",
       "      <td>1629912861</td>\n",
       "    </tr>\n",
       "    <tr>\n",
       "      <th>3</th>\n",
       "      <td>Cape Town</td>\n",
       "      <td>-33.9258</td>\n",
       "      <td>18.4232</td>\n",
       "      <td>14.51</td>\n",
       "      <td>82</td>\n",
       "      <td>0</td>\n",
       "      <td>0.89</td>\n",
       "      <td>ZA</td>\n",
       "      <td>1629912861</td>\n",
       "    </tr>\n",
       "    <tr>\n",
       "      <th>4</th>\n",
       "      <td>Mehrān</td>\n",
       "      <td>33.1222</td>\n",
       "      <td>46.1646</td>\n",
       "      <td>36.71</td>\n",
       "      <td>9</td>\n",
       "      <td>0</td>\n",
       "      <td>4.29</td>\n",
       "      <td>IR</td>\n",
       "      <td>1629912861</td>\n",
       "    </tr>\n",
       "  </tbody>\n",
       "</table>\n",
       "</div>"
      ],
      "text/plain": [
       "        City      Lat       Lng  Max Temp  Humidity  Cloudiness  Wind Speed  \\\n",
       "0      Kapaa  22.0752 -159.3190     26.18        76          90        0.89   \n",
       "1  Esperance -33.8667  121.9000     12.91        49          86        8.94   \n",
       "2    Qaanaaq  77.4840  -69.3632      4.72        85         100        4.78   \n",
       "3  Cape Town -33.9258   18.4232     14.51        82           0        0.89   \n",
       "4     Mehrān  33.1222   46.1646     36.71         9           0        4.29   \n",
       "\n",
       "  Country        Date  \n",
       "0      US  1629912860  \n",
       "1      AU  1629912860  \n",
       "2      GL  1629912861  \n",
       "3      ZA  1629912861  \n",
       "4      IR  1629912861  "
      ]
     },
     "execution_count": 39,
     "metadata": {},
     "output_type": "execute_result"
    }
   ],
   "source": [
    "citydata_df=pd.DataFrame.from_dict(citydata)\n",
    "citydata_df.to_csv(output_data_file, index=False)\n",
    "citydata_df.head()"
   ]
  },
  {
   "cell_type": "code",
   "execution_count": 53,
   "metadata": {},
   "outputs": [
    {
     "data": {
      "text/html": [
       "<div>\n",
       "<style scoped>\n",
       "    .dataframe tbody tr th:only-of-type {\n",
       "        vertical-align: middle;\n",
       "    }\n",
       "\n",
       "    .dataframe tbody tr th {\n",
       "        vertical-align: top;\n",
       "    }\n",
       "\n",
       "    .dataframe thead th {\n",
       "        text-align: right;\n",
       "    }\n",
       "</style>\n",
       "<table border=\"1\" class=\"dataframe\">\n",
       "  <thead>\n",
       "    <tr style=\"text-align: right;\">\n",
       "      <th></th>\n",
       "      <th>City</th>\n",
       "      <th>Lat</th>\n",
       "      <th>Lng</th>\n",
       "      <th>Max Temp</th>\n",
       "      <th>Humidity</th>\n",
       "      <th>Cloudiness</th>\n",
       "      <th>Wind Speed</th>\n",
       "      <th>Country</th>\n",
       "      <th>Date</th>\n",
       "    </tr>\n",
       "  </thead>\n",
       "  <tbody>\n",
       "    <tr>\n",
       "      <th>0</th>\n",
       "      <td>Kapaa</td>\n",
       "      <td>22.0752</td>\n",
       "      <td>-159.3190</td>\n",
       "      <td>26.18</td>\n",
       "      <td>76</td>\n",
       "      <td>90</td>\n",
       "      <td>0.89</td>\n",
       "      <td>US</td>\n",
       "      <td>1629912860</td>\n",
       "    </tr>\n",
       "    <tr>\n",
       "      <th>1</th>\n",
       "      <td>Esperance</td>\n",
       "      <td>-33.8667</td>\n",
       "      <td>121.9000</td>\n",
       "      <td>12.91</td>\n",
       "      <td>49</td>\n",
       "      <td>86</td>\n",
       "      <td>8.94</td>\n",
       "      <td>AU</td>\n",
       "      <td>1629912860</td>\n",
       "    </tr>\n",
       "    <tr>\n",
       "      <th>2</th>\n",
       "      <td>Qaanaaq</td>\n",
       "      <td>77.4840</td>\n",
       "      <td>-69.3632</td>\n",
       "      <td>4.72</td>\n",
       "      <td>85</td>\n",
       "      <td>100</td>\n",
       "      <td>4.78</td>\n",
       "      <td>GL</td>\n",
       "      <td>1629912861</td>\n",
       "    </tr>\n",
       "    <tr>\n",
       "      <th>3</th>\n",
       "      <td>Cape Town</td>\n",
       "      <td>-33.9258</td>\n",
       "      <td>18.4232</td>\n",
       "      <td>14.51</td>\n",
       "      <td>82</td>\n",
       "      <td>0</td>\n",
       "      <td>0.89</td>\n",
       "      <td>ZA</td>\n",
       "      <td>1629912861</td>\n",
       "    </tr>\n",
       "    <tr>\n",
       "      <th>4</th>\n",
       "      <td>Mehrān</td>\n",
       "      <td>33.1222</td>\n",
       "      <td>46.1646</td>\n",
       "      <td>36.71</td>\n",
       "      <td>9</td>\n",
       "      <td>0</td>\n",
       "      <td>4.29</td>\n",
       "      <td>IR</td>\n",
       "      <td>1629912861</td>\n",
       "    </tr>\n",
       "  </tbody>\n",
       "</table>\n",
       "</div>"
      ],
      "text/plain": [
       "        City      Lat       Lng  Max Temp  Humidity  Cloudiness  Wind Speed  \\\n",
       "0      Kapaa  22.0752 -159.3190     26.18        76          90        0.89   \n",
       "1  Esperance -33.8667  121.9000     12.91        49          86        8.94   \n",
       "2    Qaanaaq  77.4840  -69.3632      4.72        85         100        4.78   \n",
       "3  Cape Town -33.9258   18.4232     14.51        82           0        0.89   \n",
       "4     Mehrān  33.1222   46.1646     36.71         9           0        4.29   \n",
       "\n",
       "  Country        Date  \n",
       "0      US  1629912860  \n",
       "1      AU  1629912860  \n",
       "2      GL  1629912861  \n",
       "3      ZA  1629912861  \n",
       "4      IR  1629912861  "
      ]
     },
     "execution_count": 53,
     "metadata": {},
     "output_type": "execute_result"
    }
   ],
   "source": [
    "#Read previously stored data from csv to avoid repeaded api requests\n",
    "citydata_df = pd.read_csv(output_data_file)\n",
    "citydata_df.head()"
   ]
  },
  {
   "cell_type": "code",
   "execution_count": 54,
   "metadata": {},
   "outputs": [
    {
     "data": {
      "text/html": [
       "<div>\n",
       "<style scoped>\n",
       "    .dataframe tbody tr th:only-of-type {\n",
       "        vertical-align: middle;\n",
       "    }\n",
       "\n",
       "    .dataframe tbody tr th {\n",
       "        vertical-align: top;\n",
       "    }\n",
       "\n",
       "    .dataframe thead th {\n",
       "        text-align: right;\n",
       "    }\n",
       "</style>\n",
       "<table border=\"1\" class=\"dataframe\">\n",
       "  <thead>\n",
       "    <tr style=\"text-align: right;\">\n",
       "      <th></th>\n",
       "      <th>Lat</th>\n",
       "      <th>Lng</th>\n",
       "      <th>Max Temp</th>\n",
       "      <th>Humidity</th>\n",
       "      <th>Cloudiness</th>\n",
       "      <th>Wind Speed</th>\n",
       "      <th>Date</th>\n",
       "    </tr>\n",
       "  </thead>\n",
       "  <tbody>\n",
       "    <tr>\n",
       "      <th>count</th>\n",
       "      <td>586.000000</td>\n",
       "      <td>586.000000</td>\n",
       "      <td>586.000000</td>\n",
       "      <td>586.000000</td>\n",
       "      <td>586.000000</td>\n",
       "      <td>586.000000</td>\n",
       "      <td>5.860000e+02</td>\n",
       "    </tr>\n",
       "    <tr>\n",
       "      <th>mean</th>\n",
       "      <td>20.452586</td>\n",
       "      <td>20.430416</td>\n",
       "      <td>21.033908</td>\n",
       "      <td>68.035836</td>\n",
       "      <td>51.587031</td>\n",
       "      <td>3.434283</td>\n",
       "      <td>1.629913e+09</td>\n",
       "    </tr>\n",
       "    <tr>\n",
       "      <th>std</th>\n",
       "      <td>33.646697</td>\n",
       "      <td>90.863877</td>\n",
       "      <td>8.913518</td>\n",
       "      <td>23.365994</td>\n",
       "      <td>38.252692</td>\n",
       "      <td>2.361809</td>\n",
       "      <td>8.240440e+01</td>\n",
       "    </tr>\n",
       "    <tr>\n",
       "      <th>min</th>\n",
       "      <td>-54.800000</td>\n",
       "      <td>-179.166700</td>\n",
       "      <td>0.010000</td>\n",
       "      <td>5.000000</td>\n",
       "      <td>0.000000</td>\n",
       "      <td>0.000000</td>\n",
       "      <td>1.629913e+09</td>\n",
       "    </tr>\n",
       "    <tr>\n",
       "      <th>q25</th>\n",
       "      <td>-8.064750</td>\n",
       "      <td>-61.837075</td>\n",
       "      <td>13.462500</td>\n",
       "      <td>54.250000</td>\n",
       "      <td>12.000000</td>\n",
       "      <td>1.790000</td>\n",
       "      <td>1.629913e+09</td>\n",
       "    </tr>\n",
       "    <tr>\n",
       "      <th>q50</th>\n",
       "      <td>24.910650</td>\n",
       "      <td>25.676700</td>\n",
       "      <td>22.355000</td>\n",
       "      <td>75.000000</td>\n",
       "      <td>51.000000</td>\n",
       "      <td>2.960000</td>\n",
       "      <td>1.629913e+09</td>\n",
       "    </tr>\n",
       "    <tr>\n",
       "      <th>q75</th>\n",
       "      <td>49.095925</td>\n",
       "      <td>103.246175</td>\n",
       "      <td>27.225000</td>\n",
       "      <td>86.000000</td>\n",
       "      <td>90.000000</td>\n",
       "      <td>4.652500</td>\n",
       "      <td>1.629913e+09</td>\n",
       "    </tr>\n",
       "    <tr>\n",
       "      <th>max</th>\n",
       "      <td>78.218600</td>\n",
       "      <td>179.316700</td>\n",
       "      <td>42.430000</td>\n",
       "      <td>100.000000</td>\n",
       "      <td>100.000000</td>\n",
       "      <td>14.850000</td>\n",
       "      <td>1.629913e+09</td>\n",
       "    </tr>\n",
       "  </tbody>\n",
       "</table>\n",
       "</div>"
      ],
      "text/plain": [
       "              Lat         Lng    Max Temp    Humidity  Cloudiness  Wind Speed  \\\n",
       "count  586.000000  586.000000  586.000000  586.000000  586.000000  586.000000   \n",
       "mean    20.452586   20.430416   21.033908   68.035836   51.587031    3.434283   \n",
       "std     33.646697   90.863877    8.913518   23.365994   38.252692    2.361809   \n",
       "min    -54.800000 -179.166700    0.010000    5.000000    0.000000    0.000000   \n",
       "q25     -8.064750  -61.837075   13.462500   54.250000   12.000000    1.790000   \n",
       "q50     24.910650   25.676700   22.355000   75.000000   51.000000    2.960000   \n",
       "q75     49.095925  103.246175   27.225000   86.000000   90.000000    4.652500   \n",
       "max     78.218600  179.316700   42.430000  100.000000  100.000000   14.850000   \n",
       "\n",
       "               Date  \n",
       "count  5.860000e+02  \n",
       "mean   1.629913e+09  \n",
       "std    8.240440e+01  \n",
       "min    1.629913e+09  \n",
       "q25    1.629913e+09  \n",
       "q50    1.629913e+09  \n",
       "q75    1.629913e+09  \n",
       "max    1.629913e+09  "
      ]
     },
     "execution_count": 54,
     "metadata": {},
     "output_type": "execute_result"
    }
   ],
   "source": [
    "# print dataframe statistics\n",
    "def q50(x):\n",
    "    return x.quantile(0.5)\n",
    "def q25(x):\n",
    "    return x.quantile(0.25)\n",
    "def q75(x):\n",
    "    return x.quantile(0.75)\n",
    "\n",
    "citydata_df[['Lat','Lng','Max Temp','Humidity','Cloudiness','Wind Speed','Date']].agg(['count','mean','std','min',q25,q50,q75,'max'])"
   ]
  },
  {
   "cell_type": "markdown",
   "metadata": {},
   "source": [
    "## Inspect the data and remove the cities where the humidity > 100%.\n",
    "----\n",
    "Skip this step if there are no cities that have humidity > 100%. "
   ]
  },
  {
   "cell_type": "code",
   "execution_count": 55,
   "metadata": {},
   "outputs": [],
   "source": [
    "#  Get the indices of cities that have humidity over 100%.\n",
    "humidity_drop_idx=citydata_df[citydata_df['Humidity']>100].index"
   ]
  },
  {
   "cell_type": "code",
   "execution_count": 56,
   "metadata": {},
   "outputs": [
    {
     "data": {
      "text/html": [
       "<div>\n",
       "<style scoped>\n",
       "    .dataframe tbody tr th:only-of-type {\n",
       "        vertical-align: middle;\n",
       "    }\n",
       "\n",
       "    .dataframe tbody tr th {\n",
       "        vertical-align: top;\n",
       "    }\n",
       "\n",
       "    .dataframe thead th {\n",
       "        text-align: right;\n",
       "    }\n",
       "</style>\n",
       "<table border=\"1\" class=\"dataframe\">\n",
       "  <thead>\n",
       "    <tr style=\"text-align: right;\">\n",
       "      <th></th>\n",
       "      <th>Lat</th>\n",
       "      <th>Lng</th>\n",
       "      <th>Max Temp</th>\n",
       "      <th>Humidity</th>\n",
       "      <th>Cloudiness</th>\n",
       "      <th>Wind Speed</th>\n",
       "      <th>Date</th>\n",
       "    </tr>\n",
       "  </thead>\n",
       "  <tbody>\n",
       "    <tr>\n",
       "      <th>count</th>\n",
       "      <td>586.000000</td>\n",
       "      <td>586.000000</td>\n",
       "      <td>586.000000</td>\n",
       "      <td>586.000000</td>\n",
       "      <td>586.000000</td>\n",
       "      <td>586.000000</td>\n",
       "      <td>5.860000e+02</td>\n",
       "    </tr>\n",
       "    <tr>\n",
       "      <th>mean</th>\n",
       "      <td>20.452586</td>\n",
       "      <td>20.430416</td>\n",
       "      <td>21.033908</td>\n",
       "      <td>68.035836</td>\n",
       "      <td>51.587031</td>\n",
       "      <td>3.434283</td>\n",
       "      <td>1.629913e+09</td>\n",
       "    </tr>\n",
       "    <tr>\n",
       "      <th>std</th>\n",
       "      <td>33.646697</td>\n",
       "      <td>90.863877</td>\n",
       "      <td>8.913518</td>\n",
       "      <td>23.365994</td>\n",
       "      <td>38.252692</td>\n",
       "      <td>2.361809</td>\n",
       "      <td>8.240440e+01</td>\n",
       "    </tr>\n",
       "    <tr>\n",
       "      <th>min</th>\n",
       "      <td>-54.800000</td>\n",
       "      <td>-179.166700</td>\n",
       "      <td>0.010000</td>\n",
       "      <td>5.000000</td>\n",
       "      <td>0.000000</td>\n",
       "      <td>0.000000</td>\n",
       "      <td>1.629913e+09</td>\n",
       "    </tr>\n",
       "    <tr>\n",
       "      <th>q25</th>\n",
       "      <td>-8.064750</td>\n",
       "      <td>-61.837075</td>\n",
       "      <td>13.462500</td>\n",
       "      <td>54.250000</td>\n",
       "      <td>12.000000</td>\n",
       "      <td>1.790000</td>\n",
       "      <td>1.629913e+09</td>\n",
       "    </tr>\n",
       "    <tr>\n",
       "      <th>q50</th>\n",
       "      <td>24.910650</td>\n",
       "      <td>25.676700</td>\n",
       "      <td>22.355000</td>\n",
       "      <td>75.000000</td>\n",
       "      <td>51.000000</td>\n",
       "      <td>2.960000</td>\n",
       "      <td>1.629913e+09</td>\n",
       "    </tr>\n",
       "    <tr>\n",
       "      <th>q75</th>\n",
       "      <td>49.095925</td>\n",
       "      <td>103.246175</td>\n",
       "      <td>27.225000</td>\n",
       "      <td>86.000000</td>\n",
       "      <td>90.000000</td>\n",
       "      <td>4.652500</td>\n",
       "      <td>1.629913e+09</td>\n",
       "    </tr>\n",
       "    <tr>\n",
       "      <th>max</th>\n",
       "      <td>78.218600</td>\n",
       "      <td>179.316700</td>\n",
       "      <td>42.430000</td>\n",
       "      <td>100.000000</td>\n",
       "      <td>100.000000</td>\n",
       "      <td>14.850000</td>\n",
       "      <td>1.629913e+09</td>\n",
       "    </tr>\n",
       "  </tbody>\n",
       "</table>\n",
       "</div>"
      ],
      "text/plain": [
       "              Lat         Lng    Max Temp    Humidity  Cloudiness  Wind Speed  \\\n",
       "count  586.000000  586.000000  586.000000  586.000000  586.000000  586.000000   \n",
       "mean    20.452586   20.430416   21.033908   68.035836   51.587031    3.434283   \n",
       "std     33.646697   90.863877    8.913518   23.365994   38.252692    2.361809   \n",
       "min    -54.800000 -179.166700    0.010000    5.000000    0.000000    0.000000   \n",
       "q25     -8.064750  -61.837075   13.462500   54.250000   12.000000    1.790000   \n",
       "q50     24.910650   25.676700   22.355000   75.000000   51.000000    2.960000   \n",
       "q75     49.095925  103.246175   27.225000   86.000000   90.000000    4.652500   \n",
       "max     78.218600  179.316700   42.430000  100.000000  100.000000   14.850000   \n",
       "\n",
       "               Date  \n",
       "count  5.860000e+02  \n",
       "mean   1.629913e+09  \n",
       "std    8.240440e+01  \n",
       "min    1.629913e+09  \n",
       "q25    1.629913e+09  \n",
       "q50    1.629913e+09  \n",
       "q75    1.629913e+09  \n",
       "max    1.629913e+09  "
      ]
     },
     "execution_count": 56,
     "metadata": {},
     "output_type": "execute_result"
    }
   ],
   "source": [
    "# Make a new DataFrame equal to the city data to drop all humidity outliers by index.\n",
    "# Passing \"inplace=False\" will make a copy of the city_data DataFrame, which we call \"clean_city_data\".\n",
    "clean_citydata_df=citydata_df.drop(humidity_drop_idx, inplace=False)\n",
    "clean_citydata_df[['Lat','Lng','Max Temp','Humidity','Cloudiness','Wind Speed','Date']].agg(['count','mean','std','min',q25,q50,q75,'max'])"
   ]
  },
  {
   "cell_type": "markdown",
   "metadata": {},
   "source": [
    "## Plotting the Data\n",
    "* Use proper labeling of the plots using plot titles (including date of analysis) and axes labels.\n",
    "* Save the plotted figures as .pngs."
   ]
  },
  {
   "cell_type": "markdown",
   "metadata": {},
   "source": [
    "## Latitude vs. Temperature Plot"
   ]
  },
  {
   "cell_type": "code",
   "execution_count": 76,
   "metadata": {},
   "outputs": [
    {
     "name": "stdout",
     "output_type": "stream",
     "text": [
      "08/27/2021\n"
     ]
    }
   ],
   "source": [
    "# calculate current date string\n",
    "time_string = time.strftime(\"%m/%d/%Y\", time.localtime())\n",
    "print(time_string)"
   ]
  },
  {
   "cell_type": "code",
   "execution_count": 77,
   "metadata": {},
   "outputs": [
    {
     "data": {
      "image/png": "[encoded data removed]",
      "text/plain": [
       "<Figure size 432x288 with 1 Axes>"
      ]
     },
     "metadata": {
      "needs_background": "light"
     },
     "output_type": "display_data"
    }
   ],
   "source": [
    "\n",
    "clean_citydata_df.plot.scatter(x='Lat', y='Max Temp', xlabel='Latitude', ylabel='Max Temperature (C)',title=f'Max Temperature vs city latitude ({time_string})',grid='True',xlim=(-50,90),ylim=(-10,50)).get_figure().savefig('output_data/temp_vs_lat.png')\n"
   ]
  },
  {
   "cell_type": "markdown",
   "metadata": {},
   "source": [
    "## Latitude vs. Humidity Plot"
   ]
  },
  {
   "cell_type": "code",
   "execution_count": 78,
   "metadata": {},
   "outputs": [
    {
     "data": {
      "image/png": "[encoded data removed]",
      "text/plain": [
       "<Figure size 432x288 with 1 Axes>"
      ]
     },
     "metadata": {
      "needs_background": "light"
     },
     "output_type": "display_data"
    }
   ],
   "source": [
    "clean_citydata_df.plot.scatter(x='Lat', y='Humidity', xlabel='Latitude', ylabel='Humidity (%)',title=f'Humidity vs city latitude ({time_string})',grid='True',xlim=(-50,90),ylim=(0,105)).get_figure().savefig('output_data/humid_vs_lat.png')"
   ]
  },
  {
   "cell_type": "markdown",
   "metadata": {},
   "source": [
    "## Latitude vs. Cloudiness Plot"
   ]
  },
  {
   "cell_type": "code",
   "execution_count": 79,
   "metadata": {},
   "outputs": [
    {
     "data": {
      "image/png": "[encoded data removed]",
      "text/plain": [
       "<Figure size 432x288 with 1 Axes>"
      ]
     },
     "metadata": {
      "needs_background": "light"
     },
     "output_type": "display_data"
    }
   ],
   "source": [
    "clean_citydata_df.plot.scatter(x='Lat', y='Cloudiness', xlabel='Latitude', ylabel='Cloudiness (%)',title=f'Cloudiness vs city latitude ({time_string})',grid='True',xlim=(-50,90),ylim=(-5,105)).get_figure().savefig('output_data/cloud_vs_lat.png')"
   ]
  },
  {
   "cell_type": "markdown",
   "metadata": {},
   "source": [
    "## Latitude vs. Wind Speed Plot"
   ]
  },
  {
   "cell_type": "code",
   "execution_count": 80,
   "metadata": {},
   "outputs": [
    {
     "data": {
      "image/png": "[encoded data removed]",
      "text/plain": [
       "<Figure size 432x288 with 1 Axes>"
      ]
     },
     "metadata": {
      "needs_background": "light"
     },
     "output_type": "display_data"
    }
   ],
   "source": [
    "clean_citydata_df.plot.scatter(x='Lat', y='Wind Speed', xlabel='Latitude', ylabel='Wind Speed (m/s)',title=f'Wind Speed vs city latitude ({time_string})',grid='True',xlim=(-50,90),ylim=(-5,20)).get_figure().savefig('output_data/wind_speed_vs_lat.png')"
   ]
  },
  {
   "cell_type": "markdown",
   "metadata": {},
   "source": [
    "## Linear Regression"
   ]
  },
  {
   "cell_type": "code",
   "execution_count": 24,
   "metadata": {},
   "outputs": [],
   "source": []
  },
  {
   "cell_type": "markdown",
   "metadata": {},
   "source": [
    "####  Northern Hemisphere - Max Temp vs. Latitude Linear Regression"
   ]
  },
  {
   "cell_type": "code",
   "execution_count": 67,
   "metadata": {},
   "outputs": [
    {
     "name": "stdout",
     "output_type": "stream",
     "text": [
      "The r-value is -0.739\n"
     ]
    },
    {
     "data": {
      "image/png": "[encoded data removed]",
      "text/plain": [
       "<Figure size 432x288 with 1 Axes>"
      ]
     },
     "metadata": {
      "needs_background": "light"
     },
     "output_type": "display_data"
    }
   ],
   "source": [
    "x_values = clean_citydata_df[clean_citydata_df['Lat']>0]['Lat']\n",
    "y_values = clean_citydata_df[clean_citydata_df['Lat']>0]['Max Temp']\n",
    "\n",
    "\n",
    "(slope, intercept, rvalue, pvalue, stderr) = linregress(x_values, y_values)\n",
    "print(f\"The r-value is {round(rvalue,3)}\")\n",
    "regress_values = x_values * slope + intercept\n",
    "line_eq = \"y = \" + str(round(slope,2)) + \"x + \" + str(round(intercept,2))\n",
    "plt.scatter(x_values,y_values)\n",
    "plt.plot(x_values,regress_values,\"r-\")\n",
    "plt.annotate(line_eq,(5,5),fontsize=15,color=\"red\")\n",
    "plt.xlabel('Latitude')\n",
    "plt.ylabel('Max Temperature (C)')\n",
    "plt.savefig('output_data/temp_vs_lat_north_regression.png')\n",
    "plt.show()\n"
   ]
  },
  {
   "cell_type": "markdown",
   "metadata": {},
   "source": [
    "####  Southern Hemisphere - Max Temp vs. Latitude Linear Regression"
   ]
  },
  {
   "cell_type": "code",
   "execution_count": 68,
   "metadata": {},
   "outputs": [
    {
     "name": "stdout",
     "output_type": "stream",
     "text": [
      "The r-value is 0.748\n"
     ]
    },
    {
     "data": {
      "image/png": "[encoded data removed]",
      "text/plain": [
       "<Figure size 432x288 with 1 Axes>"
      ]
     },
     "metadata": {
      "needs_background": "light"
     },
     "output_type": "display_data"
    }
   ],
   "source": [
    "x_values = clean_citydata_df[clean_citydata_df['Lat']<0]['Lat']\n",
    "y_values = clean_citydata_df[clean_citydata_df['Lat']<0]['Max Temp']\n",
    "\n",
    "\n",
    "(slope, intercept, rvalue, pvalue, stderr) = linregress(x_values, y_values)\n",
    "print(f\"The r-value is {round(rvalue,3)}\")\n",
    "regress_values = x_values * slope + intercept\n",
    "line_eq = \"y = \" + str(round(slope,2)) + \"x + \" + str(round(intercept,2))\n",
    "plt.scatter(x_values,y_values)\n",
    "plt.plot(x_values,regress_values,\"r-\")\n",
    "plt.annotate(line_eq,(-55,35),fontsize=15,color=\"red\")\n",
    "plt.xlabel('Latitude')\n",
    "plt.ylabel('Max Temperature (C)')\n",
    "plt.savefig('output_data/temp_vs_lat_south_regression.png')\n",
    "plt.show()"
   ]
  },
  {
   "cell_type": "markdown",
   "metadata": {},
   "source": [
    "####  Northern Hemisphere - Humidity (%) vs. Latitude Linear Regression"
   ]
  },
  {
   "cell_type": "code",
   "execution_count": 69,
   "metadata": {},
   "outputs": [
    {
     "name": "stdout",
     "output_type": "stream",
     "text": [
      "The r-value is 0.179\n"
     ]
    },
    {
     "data": {
      "image/png": "[encoded data removed]",
      "text/plain": [
       "<Figure size 432x288 with 1 Axes>"
      ]
     },
     "metadata": {
      "needs_background": "light"
     },
     "output_type": "display_data"
    }
   ],
   "source": [
    "x_values = clean_citydata_df[clean_citydata_df['Lat']>0]['Lat']\n",
    "y_values = clean_citydata_df[clean_citydata_df['Lat']>0]['Humidity']\n",
    "\n",
    "\n",
    "(slope, intercept, rvalue, pvalue, stderr) = linregress(x_values, y_values)\n",
    "print(f\"The r-value is {round(rvalue,3)}\")\n",
    "regress_values = x_values * slope + intercept\n",
    "line_eq = \"y = \" + str(round(slope,2)) + \"x + \" + str(round(intercept,2))\n",
    "plt.scatter(x_values,y_values)\n",
    "plt.plot(x_values,regress_values,\"r-\")\n",
    "plt.annotate(line_eq,(40,5),fontsize=15,color=\"red\")\n",
    "plt.xlabel('Latitude')\n",
    "plt.ylabel('Humidity (%)')\n",
    "plt.savefig('output_data/humid_vs_lat_north_regression.png')\n",
    "plt.show()"
   ]
  },
  {
   "cell_type": "markdown",
   "metadata": {},
   "source": [
    "####  Southern Hemisphere - Humidity (%) vs. Latitude Linear Regression"
   ]
  },
  {
   "cell_type": "code",
   "execution_count": 70,
   "metadata": {},
   "outputs": [
    {
     "name": "stdout",
     "output_type": "stream",
     "text": [
      "The r-value is -0.067\n"
     ]
    },
    {
     "data": {
      "image/png": "[encoded data removed]",
      "text/plain": [
       "<Figure size 432x288 with 1 Axes>"
      ]
     },
     "metadata": {
      "needs_background": "light"
     },
     "output_type": "display_data"
    }
   ],
   "source": [
    "x_values = clean_citydata_df[clean_citydata_df['Lat']<0]['Lat']\n",
    "y_values = clean_citydata_df[clean_citydata_df['Lat']<0]['Humidity']\n",
    "\n",
    "\n",
    "(slope, intercept, rvalue, pvalue, stderr) = linregress(x_values, y_values)\n",
    "print(f\"The r-value is {round(rvalue,3)}\")\n",
    "regress_values = x_values * slope + intercept\n",
    "line_eq = \"y = \" + str(round(slope,2)) + \"x + \" + str(round(intercept,2))\n",
    "plt.scatter(x_values,y_values)\n",
    "plt.plot(x_values,regress_values,\"r-\")\n",
    "plt.annotate(line_eq,(-50,10),fontsize=15,color=\"red\")\n",
    "plt.xlabel('Latitude')\n",
    "plt.ylabel('Humidity (%)')\n",
    "plt.savefig('output_data/humid_vs_lat_south_regression.png')\n",
    "plt.show()"
   ]
  },
  {
   "cell_type": "markdown",
   "metadata": {},
   "source": [
    "####  Northern Hemisphere - Cloudiness (%) vs. Latitude Linear Regression"
   ]
  },
  {
   "cell_type": "code",
   "execution_count": 71,
   "metadata": {},
   "outputs": [
    {
     "name": "stdout",
     "output_type": "stream",
     "text": [
      "The r-value is 0.096\n"
     ]
    },
    {
     "data": {
      "image/png": "[encoded data removed]",
      "text/plain": [
       "<Figure size 432x288 with 1 Axes>"
      ]
     },
     "metadata": {
      "needs_background": "light"
     },
     "output_type": "display_data"
    }
   ],
   "source": [
    "x_values = clean_citydata_df[clean_citydata_df['Lat']>0]['Lat']\n",
    "y_values = clean_citydata_df[clean_citydata_df['Lat']>0]['Cloudiness']\n",
    "\n",
    "\n",
    "(slope, intercept, rvalue, pvalue, stderr) = linregress(x_values, y_values)\n",
    "print(f\"The r-value is {round(rvalue,3)}\")\n",
    "regress_values = x_values * slope + intercept\n",
    "line_eq = \"y = \" + str(round(slope,2)) + \"x + \" + str(round(intercept,2))\n",
    "plt.scatter(x_values,y_values)\n",
    "plt.plot(x_values,regress_values,\"r-\")\n",
    "plt.annotate(line_eq,(40,10),fontsize=15,color=\"red\")\n",
    "plt.xlabel('Latitude')\n",
    "plt.ylabel('Cloudiness (%)')\n",
    "plt.ylim=(-5,105)\n",
    "plt.savefig('output_data/cloud_vs_lat_north_regression.png')\n",
    "plt.show()"
   ]
  },
  {
   "cell_type": "markdown",
   "metadata": {},
   "source": [
    "####  Southern Hemisphere - Cloudiness (%) vs. Latitude Linear Regression"
   ]
  },
  {
   "cell_type": "code",
   "execution_count": 72,
   "metadata": {},
   "outputs": [
    {
     "name": "stdout",
     "output_type": "stream",
     "text": [
      "The r-value is 0.007\n"
     ]
    },
    {
     "data": {
      "image/png": "[encoded data removed]",
      "text/plain": [
       "<Figure size 432x288 with 1 Axes>"
      ]
     },
     "metadata": {
      "needs_background": "light"
     },
     "output_type": "display_data"
    }
   ],
   "source": [
    "x_values = clean_citydata_df[clean_citydata_df['Lat']<0]['Lat']\n",
    "y_values = clean_citydata_df[clean_citydata_df['Lat']<0]['Cloudiness']\n",
    "\n",
    "\n",
    "(slope, intercept, rvalue, pvalue, stderr) = linregress(x_values, y_values)\n",
    "print(f\"The r-value is {round(rvalue,3)}\")\n",
    "regress_values = x_values * slope + intercept\n",
    "line_eq = \"y = \" + str(round(slope,2)) + \"x + \" + str(round(intercept,2))\n",
    "plt.scatter(x_values,y_values)\n",
    "plt.plot(x_values,regress_values,\"r-\")\n",
    "plt.annotate(line_eq,(-30,10),fontsize=15,color=\"red\")\n",
    "plt.xlabel('Latitude')\n",
    "plt.ylabel('Cloudiness (%)')\n",
    "plt.ylim=(-5,105)\n",
    "plt.savefig('output_data/cloud_vs_lat_south_regression.png')\n",
    "plt.show()"
   ]
  },
  {
   "cell_type": "markdown",
   "metadata": {},
   "source": [
    "####  Northern Hemisphere - Wind Speed (mph) vs. Latitude Linear Regression"
   ]
  },
  {
   "cell_type": "code",
   "execution_count": 73,
   "metadata": {},
   "outputs": [
    {
     "name": "stdout",
     "output_type": "stream",
     "text": [
      "The r-value is 0.027\n"
     ]
    },
    {
     "data": {
      "image/png": "[encoded data removed]",
      "text/plain": [
       "<Figure size 432x288 with 1 Axes>"
      ]
     },
     "metadata": {
      "needs_background": "light"
     },
     "output_type": "display_data"
    }
   ],
   "source": [
    "x_values = clean_citydata_df[clean_citydata_df['Lat']>0]['Lat']\n",
    "y_values = clean_citydata_df[clean_citydata_df['Lat']>0]['Wind Speed']\n",
    "\n",
    "\n",
    "(slope, intercept, rvalue, pvalue, stderr) = linregress(x_values, y_values)\n",
    "print(f\"The r-value is {round(rvalue,3)}\")\n",
    "regress_values = x_values * slope + intercept\n",
    "line_eq = \"y = \" + str(round(slope,2)) + \"x + \" + str(round(intercept,2))\n",
    "plt.scatter(x_values,y_values)\n",
    "plt.plot(x_values,regress_values,\"r-\")\n",
    "plt.annotate(line_eq,(40,10),fontsize=15,color=\"red\")\n",
    "plt.xlabel('Latitude')\n",
    "plt.ylabel('Wind Speed (m/s)')\n",
    "plt.ylim=(-5,20)\n",
    "plt.savefig('output_data/wind_vs_lat_north_regression.png')\n",
    "plt.show()"
   ]
  },
  {
   "cell_type": "markdown",
   "metadata": {},
   "source": [
    "####  Southern Hemisphere - Wind Speed (mph) vs. Latitude Linear Regression"
   ]
  },
  {
   "cell_type": "code",
   "execution_count": 74,
   "metadata": {},
   "outputs": [
    {
     "name": "stdout",
     "output_type": "stream",
     "text": [
      "The r-value is -0.044\n"
     ]
    },
    {
     "data": {
      "image/png": "[encoded data removed]",
      "text/plain": [
       "<Figure size 432x288 with 1 Axes>"
      ]
     },
     "metadata": {
      "needs_background": "light"
     },
     "output_type": "display_data"
    }
   ],
   "source": [
    "x_values = clean_citydata_df[clean_citydata_df['Lat']<0]['Lat']\n",
    "y_values = clean_citydata_df[clean_citydata_df['Lat']<0]['Wind Speed']\n",
    "\n",
    "\n",
    "(slope, intercept, rvalue, pvalue, stderr) = linregress(x_values, y_values)\n",
    "print(f\"The r-value is {round(rvalue,3)}\")\n",
    "regress_values = x_values * slope + intercept\n",
    "line_eq = \"y = \" + str(round(slope,2)) + \"x + \" + str(round(intercept,2))\n",
    "plt.scatter(x_values,y_values)\n",
    "plt.plot(x_values,regress_values,\"r-\")\n",
    "plt.annotate(line_eq,(-50,10),fontsize=15,color=\"red\")\n",
    "plt.xlabel('Latitude')\n",
    "plt.ylabel('Wind Speed (m/s)')\n",
    "plt.ylim=(-5,20)\n",
    "plt.savefig('output_data/wind_vs_lat_south_regression.png')\n",
    "plt.show()"
   ]
  },
  {
   "cell_type": "markdown",
   "metadata": {},
   "source": [
    "####  Observations\n",
    "\n",
    "* Temperature decreases with increasing latitude (or if you get firther from equator)\n",
    "* In the northern hemisphere Themerature actually first increases as you get from the equator and then starts to decrease. This probably due to desert climate in Africa as you can see lowest humidity points at the same latitude come from there\n",
    "* Wind speed does not correlate with latitude in both hemispheres\n",
    "* Cloudiness does not corelate with latitude in the Southern hemisphere but increases with latitude in the Norther hemisphere. This is probably due to the fact that there is more land in the Northern hemisphere"
   ]
  },
  {
   "cell_type": "code",
   "execution_count": null,
   "metadata": {},
   "outputs": [],
   "source": []
  }
 ],
 "metadata": {
  "anaconda-cloud": {},
  "kernel_info": {
   "name": "python3"
  },
  "kernelspec": {
   "display_name": "Python 3",
   "language": "python",
   "name": "python3"
  },
  "language_info": {
   "codemirror_mode": {
    "name": "ipython",
    "version": 3
   },
   "file_extension": ".py",
   "mimetype": "text/x-python",
   "name": "python",
   "nbconvert_exporter": "python",
   "pygments_lexer": "ipython3",
   "version": "3.8.8"
  },
  "latex_envs": {
   "LaTeX_envs_menu_present": true,
   "autoclose": false,
   "autocomplete": true,
   "bibliofile": "biblio.bib",
   "cite_by": "apalike",
   "current_citInitial": 1,
   "eqLabelWithNumbers": true,
   "eqNumInitial": 1,
   "hotkeys": {
    "equation": "Ctrl-E",
    "itemize": "Ctrl-I"
   },
   "labels_anchors": false,
   "latex_user_defs": false,
   "report_style_numbering": false,
   "user_envs_cfg": false
  },
  "nteract": {
   "version": "0.12.3"
  }
 },
 "nbformat": 4,
 "nbformat_minor": 2
}
